{
  "cells": [
    {
      "cell_type": "markdown",
      "metadata": {
        "id": "JIX9shev5qME"
      },
      "source": [
        "#  collections.Counter()"
      ]
    },
    {
      "cell_type": "markdown",
      "metadata": {
        "id": "WVAot-Vr8F2U"
      },
      "source": [
        "# Question"
      ]
    },
    {
      "cell_type": "code",
      "execution_count": null,
      "metadata": {},
      "outputs": [],
      "source": [
        "## Task:\n",
        "\n",
        "# Raghu is a shoe shop owner. His shop has X number of shoes.\n",
        "# He has a list containing the size of each shoe he has in his shop.\n",
        "# There are N number of customers who are willing to pay x amount of money only if they get the shoe of their desired size.\n",
        "\n",
        "# Your task is to compute how much money Raghu earned.\n",
        "\n",
        "## Input Format:\n",
        "\n",
        "# The first line contains X, the number of shoes.\n",
        "# The second line contains the space separated list of all the shoe sizes in the shop.\n",
        "# The third line contains N, the number of customers.\n",
        "# The next N lines contain the space separated values of the shoes size desired by the customer and x, the price of the shoe.\n",
        "\n",
        "## Output Format:\n",
        "\n",
        "# Print the amount of money earned by Raghu."
      ]
    },
    {
      "cell_type": "markdown",
      "metadata": {},
      "source": [
        "# Answer"
      ]
    },
    {
      "cell_type": "code",
      "execution_count": null,
      "metadata": {},
      "outputs": [],
      "source": [
        "from collections import Counter\n",
        "\n",
        "x = int(input())\n",
        "shoes = list(map(int, input().split()))\n",
        "inventory = Counter(shoes)\n",
        "N = int(input())\n",
        "customers = [list(map(int, input().split())) for i in range(N)]\n",
        "sum = 0\n",
        "for c in customers:\n",
        "    if c[0] in inventory.keys():\n",
        "        if inventory[c[0]] > 0:\n",
        "            inventory[c[0]] -= 1\n",
        "            sum += c[1]\n",
        "    \n",
        "print(sum)"
      ]
    }
  ],
  "metadata": {
    "colab": {
      "collapsed_sections": [
        "JIX9shev5qME",
        "8FdTMZd45kyk",
        "Y1vNwmhg5_L3",
        "WVAot-Vr8F2U"
      ],
      "provenance": []
    },
    "kernelspec": {
      "display_name": "Python 3",
      "name": "python3"
    },
    "language_info": {
      "codemirror_mode": {
        "name": "ipython",
        "version": 3
      },
      "file_extension": ".py",
      "mimetype": "text/x-python",
      "name": "python",
      "nbconvert_exporter": "python",
      "pygments_lexer": "ipython3",
      "version": "3.13.5"
    }
  },
  "nbformat": 4,
  "nbformat_minor": 0
}
