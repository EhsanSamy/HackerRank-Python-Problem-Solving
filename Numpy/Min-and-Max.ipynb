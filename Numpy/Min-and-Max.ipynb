{
 "cells": [
  {
   "cell_type": "markdown",
   "metadata": {},
   "source": [
    "# Min and Max"
   ]
  },
  {
   "cell_type": "markdown",
   "metadata": {},
   "source": [
    "# Question"
   ]
  },
  {
   "cell_type": "code",
   "execution_count": null,
   "metadata": {},
   "outputs": [],
   "source": [
    "## Task:\n",
    "\n",
    "# You are given a 2-D array with dimensions NXM.\n",
    "# Your task is to perform the min function over axis 1 and then find the max of that.\n",
    "\n",
    "# Input Format\n",
    "\n",
    "# The first line of input contains the space separated values of N and M.\n",
    "# The next N lines contains M space separated integers.\n",
    "\n",
    "# Output Format\n",
    "\n",
    "# Compute the min along axis 1 and then print the max of that result."
   ]
  },
  {
   "cell_type": "markdown",
   "metadata": {},
   "source": [
    "# Answer"
   ]
  },
  {
   "cell_type": "code",
   "execution_count": null,
   "metadata": {},
   "outputs": [],
   "source": [
    "import numpy as np \n",
    "N, M = map(int, input().split())\n",
    "\n",
    "arr = np.array([list(map(int, input().split())) for _ in range(N)])\n",
    "min_arr = np.min(arr, axis = 1)\n",
    "max_value = np.max(min_arr)\n",
    "\n",
    "print(max_value)"
   ]
  }
 ],
 "metadata": {
  "kernelspec": {
   "display_name": "base",
   "language": "python",
   "name": "python3"
  },
  "language_info": {
   "name": "python",
   "version": "3.13.5"
  }
 },
 "nbformat": 4,
 "nbformat_minor": 2
}
