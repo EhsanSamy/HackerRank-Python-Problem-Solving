{
 "cells": [
  {
   "cell_type": "markdown",
   "metadata": {},
   "source": [
    "# Inner and Outer"
   ]
  },
  {
   "cell_type": "markdown",
   "metadata": {},
   "source": [
    "# Question"
   ]
  },
  {
   "cell_type": "code",
   "execution_count": null,
   "metadata": {},
   "outputs": [],
   "source": [
    "## Task:\n",
    "\n",
    "# You are given two arrays: A and B.\n",
    "# Your task is to compute their inner and outer product.\n",
    "\n",
    "## Input Format:\n",
    "\n",
    "# The first line contains the space separated elements of array A.\n",
    "# The second line contains the space separated elements of array B.\n",
    "\n",
    "## Output Format:\n",
    "\n",
    "# First, print the inner product.\n",
    "# Second, print the outer product."
   ]
  },
  {
   "cell_type": "markdown",
   "metadata": {},
   "source": [
    "# Answer"
   ]
  },
  {
   "cell_type": "code",
   "execution_count": null,
   "metadata": {},
   "outputs": [],
   "source": [
    "import numpy as np \n",
    "A = np.array(list(map(int, input().split())))\n",
    "B = np.array(list(map(int, input().split())))\n",
    "\n",
    "print(np.inner(A, B))\n",
    "print(np.outer(A, B))"
   ]
  }
 ],
 "metadata": {
  "kernelspec": {
   "display_name": "base",
   "language": "python",
   "name": "python3"
  },
  "language_info": {
   "name": "python",
   "version": "3.13.5"
  }
 },
 "nbformat": 4,
 "nbformat_minor": 2
}
