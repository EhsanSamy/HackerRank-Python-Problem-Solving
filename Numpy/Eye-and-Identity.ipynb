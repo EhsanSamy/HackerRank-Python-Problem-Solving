{
 "cells": [
  {
   "cell_type": "markdown",
   "metadata": {},
   "source": [
    "# Eye and Identity"
   ]
  },
  {
   "cell_type": "markdown",
   "metadata": {},
   "source": [
    "# Question"
   ]
  },
  {
   "cell_type": "code",
   "execution_count": null,
   "metadata": {},
   "outputs": [],
   "source": [
    "## Task:\n",
    "# Your task is to print an array of size NXM with its main diagonal elements as 1's and 0's everywhere else.\n",
    "\n",
    "## Note:\n",
    "# In order to get alignment correct, please insert the line numpy.set_printoptions(legacy='1.13') below the numpy import.\n",
    "\n",
    "## Input Format:\n",
    "# A single line containing the space separated values of N and M.\n",
    "# N denotes the rows.\n",
    "# M denotes the columns.\n",
    "\n",
    "## Output Format:\n",
    "# Print the desired NXM array."
   ]
  },
  {
   "cell_type": "markdown",
   "metadata": {},
   "source": [
    "# Answer"
   ]
  },
  {
   "cell_type": "code",
   "execution_count": null,
   "metadata": {},
   "outputs": [],
   "source": [
    "import numpy as np\n",
    "N, M = map(int, input().split())\n",
    "\n",
    "np.set_printoptions(legacy='1.13')\n",
    "identity_arr = np.eye(N, M)\n",
    "print(identity_arr)"
   ]
  }
 ],
 "metadata": {
  "kernelspec": {
   "display_name": "base",
   "language": "python",
   "name": "python3"
  },
  "language_info": {
   "name": "python",
   "version": "3.13.5"
  }
 },
 "nbformat": 4,
 "nbformat_minor": 2
}
