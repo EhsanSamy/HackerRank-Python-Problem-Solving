{
 "cells": [
  {
   "cell_type": "markdown",
   "metadata": {},
   "source": [
    "# Dot and Cross"
   ]
  },
  {
   "cell_type": "markdown",
   "metadata": {},
   "source": [
    "# Question"
   ]
  },
  {
   "cell_type": "code",
   "execution_count": null,
   "metadata": {},
   "outputs": [],
   "source": [
    "## Task:\n",
    "# You are given two arrays A and B. Both have dimensions of NXN.\n",
    "# Your task is to compute their matrix product.\n",
    "\n",
    "## Input Format:\n",
    "# The first line contains the integer N.\n",
    "# The next N lines contains N space separated integers of array A.\n",
    "# The following N lines contains N space separated integers of array B.\n",
    "\n",
    "## Output Format:\n",
    "# Print the matrix multiplication of A and B."
   ]
  },
  {
   "cell_type": "markdown",
   "metadata": {},
   "source": [
    "# Answer"
   ]
  },
  {
   "cell_type": "code",
   "execution_count": null,
   "metadata": {},
   "outputs": [],
   "source": [
    "import numpy as np \n",
    "N = int(input())\n",
    "A = np.array([list(map(int , input().split())) for _ in range(N)])\n",
    "B = np.array([list(map(int , input().split())) for _ in range(N)])\n",
    " \n",
    "print(np.dot(A, B))"
   ]
  }
 ],
 "metadata": {
  "kernelspec": {
   "display_name": "base",
   "language": "python",
   "name": "python3"
  },
  "language_info": {
   "name": "python",
   "version": "3.13.5"
  }
 },
 "nbformat": 4,
 "nbformat_minor": 2
}
