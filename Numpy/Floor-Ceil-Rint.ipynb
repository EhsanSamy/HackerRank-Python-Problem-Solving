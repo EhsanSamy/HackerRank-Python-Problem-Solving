{
 "cells": [
  {
   "cell_type": "markdown",
   "metadata": {},
   "source": [
    "# Floor, Ceil and Rint"
   ]
  },
  {
   "cell_type": "markdown",
   "metadata": {},
   "source": [
    "# Question"
   ]
  },
  {
   "cell_type": "code",
   "execution_count": null,
   "metadata": {},
   "outputs": [],
   "source": [
    "## Task:\n",
    "# You are given a 1-D array, A. Your task is to print the floor, ceil and rint of all the elements of A.\n",
    "\n",
    "## Note:\n",
    "# In order to get the correct output format, add the line numpy.set_printoptions(legacy='1.13') below the numpy import.\n",
    "\n",
    "## Input Format:\n",
    "# A single line of input containing the space separated elements of array A.\n",
    "\n",
    "## Output Format:\n",
    "# On the first line, print the floor of A.\n",
    "# On the second line, print the ceil of A.\n",
    "# On the third line, print the rint of A."
   ]
  },
  {
   "cell_type": "markdown",
   "metadata": {},
   "source": [
    "# Answer"
   ]
  },
  {
   "cell_type": "code",
   "execution_count": null,
   "metadata": {},
   "outputs": [],
   "source": [
    "import numpy as np \n",
    "A = np.array(list(map(float, input().split())))\n",
    "\n",
    "np.set_printoptions(legacy='1.13')\n",
    "print(np.floor(A))\n",
    "print(np.ceil(A))\n",
    "print(np.rint(A))"
   ]
  }
 ],
 "metadata": {
  "kernelspec": {
   "display_name": "base",
   "language": "python",
   "name": "python3"
  },
  "language_info": {
   "name": "python",
   "version": "3.13.5"
  }
 },
 "nbformat": 4,
 "nbformat_minor": 2
}
