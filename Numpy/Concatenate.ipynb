{
 "cells": [
  {
   "cell_type": "markdown",
   "metadata": {},
   "source": [
    "# Concatenate"
   ]
  },
  {
   "cell_type": "markdown",
   "metadata": {},
   "source": [
    "# Question"
   ]
  },
  {
   "cell_type": "code",
   "execution_count": null,
   "metadata": {},
   "outputs": [],
   "source": [
    "## Task:\n",
    "# You are given two integer arrays of size NXP and MXP (N & M are rows, and P is the column). Your task is to concatenate the arrays along axis 0.\n",
    "\n",
    "## Input Format:\n",
    "# The first line contains space separated integers N, M and P.\n",
    "# The next N lines contains the space separated elements of the P columns.\n",
    "# After that, the next M lines contains the space separated elements of the P columns.\n",
    "\n",
    "## Output Format:\n",
    "# Print the concatenated array of size (N + M)XP."
   ]
  },
  {
   "cell_type": "markdown",
   "metadata": {},
   "source": [
    "# Answer"
   ]
  },
  {
   "cell_type": "code",
   "execution_count": null,
   "metadata": {},
   "outputs": [],
   "source": [
    "import numpy as np\n",
    "N, M, P = map(int, input().split())\n",
    "arr1 = np.array([list(map(int, input().split())) for i in range(N)])\n",
    "arr2 = np.array([list(map(int, input().split())) for i in range(M)])\n",
    "\n",
    "concatenated_arr = np.concatenate((arr1, arr2), axis = 0)\n",
    "print(concatenated_arr)"
   ]
  }
 ],
 "metadata": {
  "kernelspec": {
   "display_name": "base",
   "language": "python",
   "name": "python3"
  },
  "language_info": {
   "name": "python",
   "version": "3.13.5"
  }
 },
 "nbformat": 4,
 "nbformat_minor": 2
}
