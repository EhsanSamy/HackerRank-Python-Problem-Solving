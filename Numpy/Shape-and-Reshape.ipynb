{
 "cells": [
  {
   "cell_type": "markdown",
   "metadata": {},
   "source": [
    "# Shape and Reshape"
   ]
  },
  {
   "cell_type": "markdown",
   "metadata": {},
   "source": [
    "# Question"
   ]
  },
  {
   "cell_type": "code",
   "execution_count": null,
   "metadata": {},
   "outputs": [],
   "source": [
    "# Task\n",
    "\n",
    "# You are given a space separated list of nine integers. Your task is to convert this list into a 3X3 NumPy array.\n",
    "\n",
    "# Input Format\n",
    "\n",
    "# A single line of input containing 9 space separated integers.\n",
    "\n",
    "# Output Format\n",
    "\n",
    "# Print the 3X3 NumPy array."
   ]
  },
  {
   "cell_type": "markdown",
   "metadata": {},
   "source": [
    "# Answer"
   ]
  },
  {
   "cell_type": "code",
   "execution_count": null,
   "metadata": {},
   "outputs": [],
   "source": [
    "import numpy\n",
    "\n",
    "lst = list(map(int, input().split()))\n",
    "reshaped_arr = numpy.reshape(lst, (3,3))\n",
    "print(reshaped_arr)"
   ]
  }
 ],
 "metadata": {
  "kernelspec": {
   "display_name": "base",
   "language": "python",
   "name": "python3"
  },
  "language_info": {
   "name": "python",
   "version": "3.13.5"
  }
 },
 "nbformat": 4,
 "nbformat_minor": 2
}
