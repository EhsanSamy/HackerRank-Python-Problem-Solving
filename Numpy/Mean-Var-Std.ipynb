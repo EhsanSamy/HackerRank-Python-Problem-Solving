{
 "cells": [
  {
   "cell_type": "markdown",
   "metadata": {},
   "source": [
    "# Mean, Var, and Std"
   ]
  },
  {
   "cell_type": "markdown",
   "metadata": {},
   "source": [
    "# Question"
   ]
  },
  {
   "cell_type": "code",
   "execution_count": null,
   "metadata": {},
   "outputs": [],
   "source": [
    "## Task:\n",
    "# You are given a 2-D array of size NXM.\n",
    "\n",
    "# Your task is to find:\n",
    "# 1. The mean along axis 1\n",
    "# 2. The var along axis 0\n",
    "# 3. The std along axis None\n",
    "\n",
    "## Input Format:\n",
    "# The first line contains the space separated values of N and M.\n",
    "# The next N lines contains M space separated integers.\n",
    "\n",
    "## Output Format:\n",
    "# First, print the mean.\n",
    "# Second, print the var.\n",
    "# Third, print the std."
   ]
  },
  {
   "cell_type": "markdown",
   "metadata": {},
   "source": [
    "# Answer"
   ]
  },
  {
   "cell_type": "code",
   "execution_count": null,
   "metadata": {},
   "outputs": [],
   "source": [
    "import numpy as np \n",
    "N, M = map(int, input().split())\n",
    "arr = np.array([list(map(int, input().split())) for _ in range(N) ])\n",
    "\n",
    "print(np.mean(arr, axis = 1))\n",
    "print(np.var(arr, axis = 0))\n",
    "print(np.round(np.std(arr, axis = None), 11))"
   ]
  }
 ],
 "metadata": {
  "kernelspec": {
   "display_name": "base",
   "language": "python",
   "name": "python3"
  },
  "language_info": {
   "name": "python",
   "version": "3.13.5"
  }
 },
 "nbformat": 4,
 "nbformat_minor": 2
}
