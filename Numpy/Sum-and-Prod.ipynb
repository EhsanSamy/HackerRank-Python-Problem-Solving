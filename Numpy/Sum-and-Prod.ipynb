{
 "cells": [
  {
   "cell_type": "markdown",
   "metadata": {},
   "source": [
    "# Sum and Prod"
   ]
  },
  {
   "cell_type": "markdown",
   "metadata": {},
   "source": [
    "# Question"
   ]
  },
  {
   "cell_type": "code",
   "execution_count": null,
   "metadata": {},
   "outputs": [],
   "source": [
    "## Task:\n",
    "\n",
    "# You are given a 2-D array with dimensions NXM.\n",
    "# Your task is to perform the sum tool over axis 0 and then find the product of that result.\n",
    "\n",
    "## Input Format:\n",
    "\n",
    "# The first line of input contains space separated values of N and M.\n",
    "# The next N lines contains M space separated integers.\n",
    "\n",
    "## Output Format:\n",
    "\n",
    "# Compute the sum along axis 0. Then, print the product of that sum."
   ]
  },
  {
   "cell_type": "markdown",
   "metadata": {},
   "source": [
    "# Answer"
   ]
  },
  {
   "cell_type": "code",
   "execution_count": null,
   "metadata": {},
   "outputs": [],
   "source": [
    "import numpy as np \n",
    "N, M = map(int, input().split())\n",
    "arr = np.array([list(map(int, input().split())) for _ in range(N) ])\n",
    "\n",
    "sum_arr = np.sum(arr, axis = 0)\n",
    "prod_arr = np.prod(sum_arr)\n",
    "\n",
    "print(prod_arr)"
   ]
  }
 ],
 "metadata": {
  "kernelspec": {
   "display_name": "base",
   "language": "python",
   "name": "python3"
  },
  "language_info": {
   "name": "python",
   "version": "3.13.5"
  }
 },
 "nbformat": 4,
 "nbformat_minor": 2
}
