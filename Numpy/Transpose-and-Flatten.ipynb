{
 "cells": [
  {
   "cell_type": "markdown",
   "metadata": {},
   "source": [
    "# Transpose and Flatten"
   ]
  },
  {
   "cell_type": "markdown",
   "metadata": {},
   "source": [
    "# Question"
   ]
  },
  {
   "cell_type": "code",
   "execution_count": null,
   "metadata": {},
   "outputs": [],
   "source": [
    "## Task:\n",
    "\n",
    "# You are given a N X M integer array matrix with space separated elements (N = rows and M = columns).\n",
    "# Your task is to print the transpose and flatten results.\n",
    "\n",
    "## Input Format:\n",
    "\n",
    "# The first line contains the space separated values of N and M.\n",
    "# The next N lines contains the space separated elements of M columns.\n",
    "\n",
    "##: Output Format\n",
    "\n",
    "# First, print the transpose array and then print the flatten."
   ]
  },
  {
   "cell_type": "markdown",
   "metadata": {},
   "source": [
    "# Answer"
   ]
  },
  {
   "cell_type": "code",
   "execution_count": null,
   "metadata": {},
   "outputs": [],
   "source": [
    "import numpy\n",
    "N, M = map(int, input().split())\n",
    "lst = []\n",
    "for i in range(N):\n",
    "    lst += list(map(int, input().split()))\n",
    "\n",
    "arr = numpy.reshape(lst, (N, M))\n",
    "print(numpy.transpose(arr))\n",
    "print(arr.flatten())"
   ]
  }
 ],
 "metadata": {
  "kernelspec": {
   "display_name": "base",
   "language": "python",
   "name": "python3"
  },
  "language_info": {
   "codemirror_mode": {
    "name": "ipython",
    "version": 3
   },
   "file_extension": ".py",
   "mimetype": "text/x-python",
   "name": "python",
   "nbconvert_exporter": "python",
   "pygments_lexer": "ipython3",
   "version": "3.13.5"
  }
 },
 "nbformat": 4,
 "nbformat_minor": 2
}
