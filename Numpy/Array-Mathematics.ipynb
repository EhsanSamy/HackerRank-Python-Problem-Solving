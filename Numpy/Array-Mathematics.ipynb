{
 "cells": [
  {
   "cell_type": "markdown",
   "metadata": {},
   "source": [
    "# Array Mathematics"
   ]
  },
  {
   "cell_type": "markdown",
   "metadata": {},
   "source": [
    "# Question"
   ]
  },
  {
   "cell_type": "code",
   "execution_count": null,
   "metadata": {},
   "outputs": [],
   "source": [
    "## Task:\n",
    "# You are given two integer arrays, A and B of dimensions NXM.\n",
    "\n",
    "# Your task is to perform the following operations:\n",
    "# 1. Add (A + B)\n",
    "# 2. Subtract (A - B)\n",
    "# 3. Multiply (A * B)\n",
    "# 4. Integer Division (A // B)\n",
    "# 5. Mod (A % B)\n",
    "# 6. Power (A ** B)\n",
    "\n",
    "## Note:\n",
    "# There is a method numpy.floor_divide() that works like numpy.divide() except it performs a floor division.\n",
    "\n",
    "## Input Format:\n",
    "# The first line contains two space separated integers, N and M.\n",
    "# The next N lines contains M space separated integers of array A.\n",
    "# The following N lines contains M space separated integers of array B.\n",
    "\n",
    "## Output Format:\n",
    "# Print the result of each operation in the given order under Task."
   ]
  },
  {
   "cell_type": "markdown",
   "metadata": {},
   "source": [
    "# Answer"
   ]
  },
  {
   "cell_type": "code",
   "execution_count": null,
   "metadata": {},
   "outputs": [],
   "source": [
    "import numpy as np \n",
    "N, M = map(int, input().split())\n",
    "A = np.array([list(map(int, input().split())) for _ in range(N)])\n",
    "B = np.array([list(map(int, input().split())) for _ in range(N)])\n",
    "\n",
    "print(np.add(A, B))\n",
    "print(np.subtract(A, B))\n",
    "print(np.multiply(A, B))\n",
    "print(np.floor_divide(A, B))\n",
    "print(np.mod(A, B))\n",
    "print(np.power(A, B))"
   ]
  }
 ],
 "metadata": {
  "kernelspec": {
   "display_name": "base",
   "language": "python",
   "name": "python3"
  },
  "language_info": {
   "name": "python",
   "version": "3.13.5"
  }
 },
 "nbformat": 4,
 "nbformat_minor": 2
}
