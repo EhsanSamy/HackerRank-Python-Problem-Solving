{
  "cells": [
    {
      "cell_type": "markdown",
      "metadata": {
        "id": "JIX9shev5qME"
      },
      "source": [
        "#  Set.add()\n"
      ]
    },
    {
      "cell_type": "markdown",
      "metadata": {
        "id": "WVAot-Vr8F2U"
      },
      "source": [
        "# Question"
      ]
    },
    {
      "cell_type": "code",
      "execution_count": null,
      "metadata": {},
      "outputs": [],
      "source": [
        "## Task\n",
        "# Apply your knowledge of the .add() operation to help your friend Rupal.\n",
        "\n",
        "# Rupal has a huge collection of country stamps. She decided to count the total number of distinct country stamps in her collection. She asked for your help. You pick the stamps one by one from a stack of N country stamps.\n",
        "\n",
        "# Find the total number of distinct country stamps.\n",
        "\n",
        "## Input Format\n",
        "\n",
        "# The first line contains an integer , the total number of country stamps.\n",
        "# The next  lines contains the name of the country where the stamp is from.\n",
        "\n",
        "## Output Format\n",
        "\n",
        "# Output the total number of distinct country stamps on a single line."
      ]
    },
    {
      "cell_type": "markdown",
      "metadata": {},
      "source": [
        "# Answer"
      ]
    },
    {
      "cell_type": "code",
      "execution_count": null,
      "metadata": {},
      "outputs": [],
      "source": [
        "N = int(input())\n",
        "countries = set()\n",
        "for _ in range(N):\n",
        "    countries.add(input())\n",
        "\n",
        "print(len(countries))"
      ]
    }
  ],
  "metadata": {
    "colab": {
      "collapsed_sections": [
        "JIX9shev5qME",
        "8FdTMZd45kyk",
        "Y1vNwmhg5_L3",
        "WVAot-Vr8F2U"
      ],
      "provenance": []
    },
    "kernelspec": {
      "display_name": "Python 3",
      "name": "python3"
    },
    "language_info": {
      "codemirror_mode": {
        "name": "ipython",
        "version": 3
      },
      "file_extension": ".py",
      "mimetype": "text/x-python",
      "name": "python",
      "nbconvert_exporter": "python",
      "pygments_lexer": "ipython3",
      "version": "3.13.5"
    }
  },
  "nbformat": 4,
  "nbformat_minor": 0
}
