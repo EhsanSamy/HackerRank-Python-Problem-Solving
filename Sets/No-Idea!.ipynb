{
  "cells": [
    {
      "cell_type": "markdown",
      "metadata": {
        "id": "JIX9shev5qME"
      },
      "source": [
        "#  No Idea!"
      ]
    },
    {
      "cell_type": "markdown",
      "metadata": {
        "id": "WVAot-Vr8F2U"
      },
      "source": [
        "# Question"
      ]
    },
    {
      "cell_type": "code",
      "execution_count": null,
      "metadata": {},
      "outputs": [],
      "source": [
        "## Task\n",
        "# There is an array of n integers. There are also 2 disjoint sets, A and B, each containing m integers. You like all the integers in set A and dislike all the integers in set B. Your initial happiness is 0. For each i integer in the array, if i belongs to A, you add 1 to your happiness. If i belongs to B, you add -1 to your happiness. Otherwise, your happiness does not change. Output your final happiness at the end.\n",
        "\n",
        "# Note: Since A and B are sets, they have no repeated elements. However, the array might contain duplicate elements.\n",
        "\n",
        "## Input Format\n",
        "\n",
        "# The first line contains integers n and m separated by a space.\n",
        "# The second line contains n integers, the elements of the array.\n",
        "# The third and fourth lines contain m integers, A and B, respectively.\n",
        "\n",
        "## Output Format\n",
        "\n",
        "# Output a single integer, your total happiness."
      ]
    },
    {
      "cell_type": "markdown",
      "metadata": {},
      "source": [
        "# Answer"
      ]
    },
    {
      "cell_type": "code",
      "execution_count": null,
      "metadata": {},
      "outputs": [],
      "source": [
        "length = list(map(int, input().split()))\n",
        "arr = list(map(int, input().split()))[:length[0]]\n",
        "A_input = list(map(int, input().split()))[:length[1]]\n",
        "B_input = list(map(int, input().split()))[:length[1]]\n",
        "A = set(A_input)\n",
        "B = set(B_input)\n",
        "happiness = 0\n",
        "for i in arr:\n",
        "    if i in A and i not in B:\n",
        "        happiness += 1\n",
        "    elif i in B:\n",
        "        happiness -= 1\n",
        "    else: \n",
        "        continue\n",
        "print(happiness)\n",
        "        "
      ]
    }
  ],
  "metadata": {
    "colab": {
      "collapsed_sections": [
        "JIX9shev5qME",
        "8FdTMZd45kyk",
        "Y1vNwmhg5_L3",
        "WVAot-Vr8F2U"
      ],
      "provenance": []
    },
    "kernelspec": {
      "display_name": "Python 3",
      "name": "python3"
    },
    "language_info": {
      "codemirror_mode": {
        "name": "ipython",
        "version": 3
      },
      "file_extension": ".py",
      "mimetype": "text/x-python",
      "name": "python",
      "nbconvert_exporter": "python",
      "pygments_lexer": "ipython3",
      "version": "3.13.5"
    }
  },
  "nbformat": 4,
  "nbformat_minor": 0
}
