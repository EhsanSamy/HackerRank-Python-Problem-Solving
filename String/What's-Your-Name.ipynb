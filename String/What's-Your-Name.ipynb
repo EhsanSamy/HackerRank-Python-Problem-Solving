{
  "cells": [
    {
      "cell_type": "markdown",
      "metadata": {
        "id": "JIX9shev5qME"
      },
      "source": [
        "#  What's Your Name"
      ]
    },
    {
      "cell_type": "markdown",
      "metadata": {
        "id": "WVAot-Vr8F2U"
      },
      "source": [
        "# Question"
      ]
    },
    {
      "cell_type": "code",
      "execution_count": null,
      "metadata": {},
      "outputs": [],
      "source": [
        "## Task:\n",
        "# You are given the firstname and lastname of a person on two different lines. Your task is to read them and print the following:\n",
        "\n",
        "# >> Hello firstname lastname! You just delved into python. <<\n",
        "\n",
        "## Function Description:\n",
        "# Complete the print_full_name function in the editor below.\n",
        "\n",
        "# print_full_name has the following parameters:\n",
        "\n",
        "# string first: the first name\n",
        "# string last: the last name\n",
        "\n",
        "## Input Format:\n",
        "# The first line contains the first name, and the second line contains the last name."
      ]
    },
    {
      "cell_type": "markdown",
      "metadata": {},
      "source": [
        "# Answer"
      ]
    },
    {
      "cell_type": "code",
      "execution_count": null,
      "metadata": {},
      "outputs": [],
      "source": [
        "def print_full_name(first, last):\n",
        "    # Write your code here\n",
        "    print(f\"Hello {first} {last}! You just delved into python.\")"
      ]
    }
  ],
  "metadata": {
    "colab": {
      "collapsed_sections": [
        "JIX9shev5qME",
        "8FdTMZd45kyk",
        "Y1vNwmhg5_L3",
        "WVAot-Vr8F2U"
      ],
      "provenance": []
    },
    "kernelspec": {
      "display_name": "Python 3",
      "name": "python3"
    },
    "language_info": {
      "codemirror_mode": {
        "name": "ipython",
        "version": 3
      },
      "file_extension": ".py",
      "mimetype": "text/x-python",
      "name": "python",
      "nbconvert_exporter": "python",
      "pygments_lexer": "ipython3",
      "version": "3.13.5"
    }
  },
  "nbformat": 4,
  "nbformat_minor": 0
}
