{
  "cells": [
    {
      "cell_type": "markdown",
      "metadata": {
        "id": "JIX9shev5qME"
      },
      "source": [
        "#  Mutations"
      ]
    },
    {
      "cell_type": "markdown",
      "metadata": {
        "id": "WVAot-Vr8F2U"
      },
      "source": [
        "# Question"
      ]
    },
    {
      "cell_type": "code",
      "execution_count": null,
      "metadata": {},
      "outputs": [],
      "source": [
        "## Task:\n",
        "\n",
        "# Read a given string, change the character at a given index and then print the modified string.\n",
        "\n",
        "## Function Description:\n",
        "\n",
        "# Complete the mutate_string function in the editor below.\n",
        "\n",
        "# mutate_string has the following parameters:\n",
        "# string string: the string to change\n",
        "# int position: the index to insert the character at\n",
        "# string character: the character to insert\n",
        "\n",
        "## Returns:\n",
        "\n",
        "# string: the altered string\n",
        "\n",
        "## Input Format:\n",
        "\n",
        "# The first line contains a string, string.\n",
        "# The next line contains an integer position, the index location and a string character, separated by a space."
      ]
    },
    {
      "cell_type": "markdown",
      "metadata": {},
      "source": [
        "# Answer"
      ]
    },
    {
      "cell_type": "code",
      "execution_count": null,
      "metadata": {},
      "outputs": [],
      "source": [
        "def mutate_string(string, position, character):\n",
        "    return string[:position] + character + string[position+1:]"
      ]
    }
  ],
  "metadata": {
    "colab": {
      "collapsed_sections": [
        "JIX9shev5qME",
        "8FdTMZd45kyk",
        "Y1vNwmhg5_L3",
        "WVAot-Vr8F2U"
      ],
      "provenance": []
    },
    "kernelspec": {
      "display_name": "Python 3",
      "name": "python3"
    },
    "language_info": {
      "codemirror_mode": {
        "name": "ipython",
        "version": 3
      },
      "file_extension": ".py",
      "mimetype": "text/x-python",
      "name": "python",
      "nbconvert_exporter": "python",
      "pygments_lexer": "ipython3",
      "version": "3.13.5"
    }
  },
  "nbformat": 4,
  "nbformat_minor": 0
}
