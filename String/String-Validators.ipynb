{
  "cells": [
    {
      "cell_type": "markdown",
      "metadata": {
        "id": "JIX9shev5qME"
      },
      "source": [
        "#  String Validators"
      ]
    },
    {
      "cell_type": "markdown",
      "metadata": {
        "id": "WVAot-Vr8F2U"
      },
      "source": [
        "# Question"
      ]
    },
    {
      "cell_type": "code",
      "execution_count": null,
      "metadata": {},
      "outputs": [],
      "source": [
        "## Task\n",
        "\n",
        "# You are given a string S.\n",
        "# Your task is to find out if the string S contains: alphanumeric characters, alphabetical characters, digits, lowercase and uppercase characters.\n",
        "\n",
        "## Input Format\n",
        "\n",
        "# A single line containing a string S.\n",
        "\n",
        "## Output Format\n",
        "\n",
        "# In the first line, print True if S has any alphanumeric characters. Otherwise, print False.\n",
        "# In the second line, print True if S has any alphabetical characters. Otherwise, print False.\n",
        "# In the third line, print True if S has any digits. Otherwise, print False.\n",
        "# In the fourth line, print True if S has any lowercase characters. Otherwise, print False.\n",
        "# In the fifth line, print True if S has any uppercase characters. Otherwise, print False."
      ]
    },
    {
      "cell_type": "markdown",
      "metadata": {},
      "source": [
        "# Answer"
      ]
    },
    {
      "cell_type": "code",
      "execution_count": null,
      "metadata": {},
      "outputs": [],
      "source": [
        "s = input()\n",
        "print(any(l.isalnum() for l in s))\n",
        "print(any(l.isalpha()for l in s))\n",
        "print(any(l.isdigit()for l in s))\n",
        "print(any(l.islower() for l in s))\n",
        "print(any(l.isupper() for l in s))"
      ]
    }
  ],
  "metadata": {
    "colab": {
      "collapsed_sections": [
        "JIX9shev5qME",
        "8FdTMZd45kyk",
        "Y1vNwmhg5_L3",
        "WVAot-Vr8F2U"
      ],
      "provenance": []
    },
    "kernelspec": {
      "display_name": "Python 3",
      "name": "python3"
    },
    "language_info": {
      "codemirror_mode": {
        "name": "ipython",
        "version": 3
      },
      "file_extension": ".py",
      "mimetype": "text/x-python",
      "name": "python",
      "nbconvert_exporter": "python",
      "pygments_lexer": "ipython3",
      "version": "3.13.5"
    }
  },
  "nbformat": 4,
  "nbformat_minor": 0
}
