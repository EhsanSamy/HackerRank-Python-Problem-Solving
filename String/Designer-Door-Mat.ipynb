{
  "cells": [
    {
      "cell_type": "markdown",
      "metadata": {
        "id": "JIX9shev5qME"
      },
      "source": [
        "#  Designer Door Mat"
      ]
    },
    {
      "cell_type": "markdown",
      "metadata": {
        "id": "WVAot-Vr8F2U"
      },
      "source": [
        "# Question"
      ]
    },
    {
      "cell_type": "code",
      "execution_count": null,
      "metadata": {},
      "outputs": [],
      "source": [
        "## Task \n",
        "\n",
        "# Mr. Vincent works in a door mat manufacturing company. One day, he designed a new door mat with the following specifications:\n",
        "\n",
        "# Mat size must be N X M. (N is an odd natural number, and M is  times 3.)\n",
        "# The design should have 'WELCOME' written in the center.\n",
        "# The design pattern should only use |, . and - characters.\n",
        "\n",
        "## Input Format\n",
        "\n",
        "# A single line containing the space separated values of N and M.\n",
        "\n",
        "## Output Format\n",
        "\n",
        "# Output the design pattern."
      ]
    },
    {
      "cell_type": "markdown",
      "metadata": {},
      "source": [
        "# Answer"
      ]
    },
    {
      "cell_type": "code",
      "execution_count": null,
      "metadata": {},
      "outputs": [],
      "source": [
        "N, M = map(int,input().split())\n",
        "\n",
        "for i in range(N // 2):\n",
        "    print(('.|.' * (2 * i + 1)).center(M, '-'))\n",
        "    \n",
        "print(\"WELCOME\".center(M,'-'))\n",
        "\n",
        "for i in (reversed(range(N // 2))):\n",
        "    print(('.|.' * (2 * i + 1)).center(M, '-'))"
      ]
    }
  ],
  "metadata": {
    "colab": {
      "collapsed_sections": [
        "JIX9shev5qME",
        "8FdTMZd45kyk",
        "Y1vNwmhg5_L3",
        "WVAot-Vr8F2U"
      ],
      "provenance": []
    },
    "kernelspec": {
      "display_name": "Python 3",
      "name": "python3"
    },
    "language_info": {
      "codemirror_mode": {
        "name": "ipython",
        "version": 3
      },
      "file_extension": ".py",
      "mimetype": "text/x-python",
      "name": "python",
      "nbconvert_exporter": "python",
      "pygments_lexer": "ipython3",
      "version": "3.13.5"
    }
  },
  "nbformat": 4,
  "nbformat_minor": 0
}
