{
  "cells": [
    {
      "cell_type": "markdown",
      "metadata": {
        "id": "JIX9shev5qME"
      },
      "source": [
        "#  Exceptions"
      ]
    },
    {
      "cell_type": "markdown",
      "metadata": {
        "id": "WVAot-Vr8F2U"
      },
      "source": [
        "# Question"
      ]
    },
    {
      "cell_type": "code",
      "execution_count": null,
      "metadata": {},
      "outputs": [],
      "source": [
        "## Task:\n",
        "\n",
        "# You are given two values a and b.\n",
        "# Perform integer division and print a/b.\n",
        "\n",
        "## Input Format:\n",
        "\n",
        "# The first line contains T, the number of test cases.\n",
        "# The next T lines each contain the space separated values of a and b.\n",
        "\n",
        "## Output Format:\n",
        "\n",
        "# Print the value of a/b.\n",
        "# In the case of ZeroDivisionError or ValueError, print the error code."
      ]
    },
    {
      "cell_type": "markdown",
      "metadata": {},
      "source": [
        "# Answer"
      ]
    },
    {
      "cell_type": "code",
      "execution_count": null,
      "metadata": {},
      "outputs": [],
      "source": [
        "test_cases = int(input())\n",
        "for i in range (test_cases):\n",
        "    try:\n",
        "        a , b = map(int, input().split())\n",
        "        print(a // b)\n",
        "    except ZeroDivisionError as e:\n",
        "        print (\"Error Code:\",e)\n",
        "    except ValueError as e:\n",
        "        print (\"Error Code:\",e)"
      ]
    }
  ],
  "metadata": {
    "colab": {
      "collapsed_sections": [
        "JIX9shev5qME",
        "8FdTMZd45kyk",
        "Y1vNwmhg5_L3",
        "WVAot-Vr8F2U"
      ],
      "provenance": []
    },
    "kernelspec": {
      "display_name": "Python 3",
      "name": "python3"
    },
    "language_info": {
      "codemirror_mode": {
        "name": "ipython",
        "version": 3
      },
      "file_extension": ".py",
      "mimetype": "text/x-python",
      "name": "python",
      "nbconvert_exporter": "python",
      "pygments_lexer": "ipython3",
      "version": "3.13.5"
    }
  },
  "nbformat": 4,
  "nbformat_minor": 0
}
