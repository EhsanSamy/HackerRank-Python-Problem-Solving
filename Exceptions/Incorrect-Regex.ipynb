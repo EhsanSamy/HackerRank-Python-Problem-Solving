{
  "cells": [
    {
      "cell_type": "markdown",
      "metadata": {
        "id": "JIX9shev5qME"
      },
      "source": [
        "#  Incorrect Regex"
      ]
    },
    {
      "cell_type": "markdown",
      "metadata": {
        "id": "WVAot-Vr8F2U"
      },
      "source": [
        "# Question"
      ]
    },
    {
      "cell_type": "code",
      "execution_count": null,
      "metadata": {},
      "outputs": [],
      "source": [
        "## Task:\n",
        "\n",
        "# You are given a string S.\n",
        "# Your task is to find out whether S is a valid regex or not.\n",
        "\n",
        "## Input Format:\n",
        "\n",
        "# The first line contains integer T, the number of test cases.\n",
        "# The next T lines contains the string S.\n",
        "\n",
        "## Output Format:\n",
        "\n",
        "# Print \"True\" or \"False\" for each test case without quotes."
      ]
    },
    {
      "cell_type": "markdown",
      "metadata": {},
      "source": [
        "# Answer"
      ]
    },
    {
      "cell_type": "code",
      "execution_count": null,
      "metadata": {},
      "outputs": [],
      "source": [
        "## Python 2\n",
        "\n",
        "import re\n",
        "\n",
        "test_cases = int(input())\n",
        "for i in range(test_cases):\n",
        "    try:\n",
        "        pattern = raw_input()\n",
        "        re.compile(pattern)\n",
        "        print(True)\n",
        "    except re.error:\n",
        "        print(False)"
      ]
    }
  ],
  "metadata": {
    "colab": {
      "collapsed_sections": [
        "JIX9shev5qME",
        "8FdTMZd45kyk",
        "Y1vNwmhg5_L3",
        "WVAot-Vr8F2U"
      ],
      "provenance": []
    },
    "kernelspec": {
      "display_name": "Python 3",
      "name": "python3"
    },
    "language_info": {
      "codemirror_mode": {
        "name": "ipython",
        "version": 3
      },
      "file_extension": ".py",
      "mimetype": "text/x-python",
      "name": "python",
      "nbconvert_exporter": "python",
      "pygments_lexer": "ipython3",
      "version": "3.13.5"
    }
  },
  "nbformat": 4,
  "nbformat_minor": 0
}
