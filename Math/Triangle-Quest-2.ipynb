{
  "cells": [
    {
      "cell_type": "markdown",
      "metadata": {
        "id": "JIX9shev5qME"
      },
      "source": [
        "#  Triangle Quest2"
      ]
    },
    {
      "cell_type": "markdown",
      "metadata": {
        "id": "WVAot-Vr8F2U"
      },
      "source": [
        "# Question"
      ]
    },
    {
      "cell_type": "code",
      "execution_count": null,
      "metadata": {},
      "outputs": [],
      "source": [
        "## Task:\n",
        "# You are given a positive integer N.\n",
        "# Your task is to print a palindromic triangle of size N.\n",
        "\n",
        "# For example, a palindromic triangle of size 5 is:\n",
        "\n",
        "# 1\n",
        "# 121\n",
        "# 12321\n",
        "# 1234321\n",
        "# 123454321\n",
        "\n",
        "# You can't take more than two lines. The first line (a for-statement) is already written for you.\n",
        "# You have to complete the code using exactly one print statement.\n",
        "\n",
        "## Note:\n",
        "# Using anything related to strings will give a score of 0.\n",
        "# Using more than one for-statement will give a score of 0.\n",
        "\n",
        "## Input Format:\n",
        "# A single line of input containing the integer N.\n",
        "\n",
        "## Output Format:\n",
        "# Print the palindromic triangle of size N as explained above."
      ]
    },
    {
      "cell_type": "markdown",
      "metadata": {},
      "source": [
        "# Answer"
      ]
    },
    {
      "cell_type": "code",
      "execution_count": null,
      "metadata": {},
      "outputs": [],
      "source": [
        "n = int(input())\n",
        "for i in range(1, n + 1): print(((10 ** i -1) // 9) ** 2)"
      ]
    }
  ],
  "metadata": {
    "colab": {
      "collapsed_sections": [
        "JIX9shev5qME",
        "8FdTMZd45kyk",
        "Y1vNwmhg5_L3",
        "WVAot-Vr8F2U"
      ],
      "provenance": []
    },
    "kernelspec": {
      "display_name": "Python 3",
      "name": "python3"
    },
    "language_info": {
      "codemirror_mode": {
        "name": "ipython",
        "version": 3
      },
      "file_extension": ".py",
      "mimetype": "text/x-python",
      "name": "python",
      "nbconvert_exporter": "python",
      "pygments_lexer": "ipython3",
      "version": "3.13.5"
    }
  },
  "nbformat": 4,
  "nbformat_minor": 0
}
