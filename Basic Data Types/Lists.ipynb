{
  "cells": [
    {
      "cell_type": "markdown",
      "metadata": {
        "id": "JIX9shev5qME"
      },
      "source": [
        "#  Lists"
      ]
    },
    {
      "cell_type": "markdown",
      "metadata": {
        "id": "WVAot-Vr8F2U"
      },
      "source": [
        "# Question"
      ]
    },
    {
      "cell_type": "code",
      "execution_count": null,
      "metadata": {},
      "outputs": [],
      "source": [
        "##Task:\n",
        "# Consider a list (list = []). You can perform the following commands:\n",
        "\n",
        "# 1. insert i e: Insert integer e at position i.\n",
        "# 2. print: Print the list.\n",
        "# 3. remove e: Delete the first occurrence of integer e.\n",
        "# 4. append e: Insert integer e at the end of the list.\n",
        "# 5. sort: Sort the list.\n",
        "# 6. pop: Pop the last element from the list.\n",
        "# 7. reverse: Reverse the list.\n",
        "\n",
        "# Initialize your list and read in the value of n followed by n lines of commands where each command will be of the 7 types listed above. Iterate through each command in order and perform the corresponding operation on your list.\n",
        "\n",
        "## Example:\n",
        "# N = 4\n",
        "# append 1\n",
        "# append 2\n",
        "# insert 1 3\n",
        "# print\n",
        "\n",
        "# - append 1: Append 1 to the list, arr = [1].\n",
        "# - append 2: Append 2 to the list, arr = [1, 2].\n",
        "# - insert 1 3: Insert 3 at index 1, arr = [1, 3, 2].\n",
        "# - print: Print the array.\n",
        "\n",
        "# Output:\n",
        "# [1, 3, 2]\n",
        "\n",
        "## Input Format:\n",
        "\n",
        "# The first line contains an integer, n, denoting the number of commands.\n",
        "# Each line i of the n subsequent lines contains one of the commands described above."
      ]
    },
    {
      "cell_type": "markdown",
      "metadata": {},
      "source": [
        "# Answer"
      ]
    },
    {
      "cell_type": "code",
      "execution_count": null,
      "metadata": {},
      "outputs": [],
      "source": [
        "N = int(input())\n",
        "list = []\n",
        "for i in range(N):\n",
        "    command = input().split()\n",
        "    if command[0] == 'insert':\n",
        "        list.insert(int(command[1]), int(command[2]))\n",
        "    elif command[0] == 'print':\n",
        "        print(list)\n",
        "    elif command[0] == 'remove':\n",
        "        list.remove(int(command[1]))\n",
        "    elif command[0] == 'append':\n",
        "        list.append(int(command[1]))\n",
        "    elif command[0] == 'sort':\n",
        "        list.sort()\n",
        "    elif command[0] == 'pop':\n",
        "        list.pop()\n",
        "    elif command[0] == 'reverse':\n",
        "        list.reverse()\n",
        "    else:\n",
        "        print(\"invalid command!\")"
      ]
    }
  ],
  "metadata": {
    "colab": {
      "collapsed_sections": [
        "JIX9shev5qME",
        "8FdTMZd45kyk",
        "Y1vNwmhg5_L3",
        "WVAot-Vr8F2U"
      ],
      "provenance": []
    },
    "kernelspec": {
      "display_name": "Python 3",
      "name": "python3"
    },
    "language_info": {
      "codemirror_mode": {
        "name": "ipython",
        "version": 3
      },
      "file_extension": ".py",
      "mimetype": "text/x-python",
      "name": "python",
      "nbconvert_exporter": "python",
      "pygments_lexer": "ipython3",
      "version": "3.13.5"
    }
  },
  "nbformat": 4,
  "nbformat_minor": 0
}
