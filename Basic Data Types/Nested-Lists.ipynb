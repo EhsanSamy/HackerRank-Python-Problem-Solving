{
  "cells": [
    {
      "cell_type": "markdown",
      "metadata": {
        "id": "JIX9shev5qME"
      },
      "source": [
        "#  Nested Lists"
      ]
    },
    {
      "cell_type": "markdown",
      "metadata": {
        "id": "WVAot-Vr8F2U"
      },
      "source": [
        "# Question"
      ]
    },
    {
      "cell_type": "code",
      "execution_count": null,
      "metadata": {},
      "outputs": [],
      "source": [
        "## Task:\n",
        "# Given the names and grades for each student in a class of N students, store them in a nested list and print the name(s) of any student(s) having the second lowest grade.\n",
        "\n",
        "# Note: If there are multiple students with the second lowest grade, order their names alphabetically and print each name on a new line.\n",
        "\n",
        "## Example:\n",
        "# records = [[\"chi\", 20.0], [\"beta\", 50.0], [\"alpha\", 50.0]]\n",
        "# The ordered list of scores is [20.0, 50.0], so the second lowest score is 50.0. There are two students with that score: [\"beta\", \"alpha\"]. Ordered alphabetically, the names are printed as:\n",
        "# alpha\n",
        "# beta\n",
        "\n",
        "## Input Format:\n",
        "# The first line contains an integer, N, the number of students.\n",
        "# The 2N subsequent lines describe each student over 2 lines.\n",
        "# - The first line contains a student's name.\n",
        "# - The second line contains their grade.\n",
        "\n",
        "## Output Format:\n",
        "# Print the name(s) of any student(s) having the second lowest grade in. If there are multiple students, order their names alphabetically and print each one on a new line."
      ]
    },
    {
      "cell_type": "markdown",
      "metadata": {},
      "source": [
        "# Answer"
      ]
    },
    {
      "cell_type": "code",
      "execution_count": null,
      "metadata": {},
      "outputs": [],
      "source": [
        "students = []\n",
        "for _ in range(int(input())):\n",
        "    name = input()\n",
        "    score = float(input())\n",
        "    students.append([name, score])\n",
        "unique_scores = sorted(set(s[1] for s in students))\n",
        "second_lowest = unique_scores[1]\n",
        "names = [s[0] for s in students if s[1] == second_lowest]\n",
        "for name in sorted(names):\n",
        "    print(name)"
      ]
    }
  ],
  "metadata": {
    "colab": {
      "collapsed_sections": [
        "JIX9shev5qME",
        "8FdTMZd45kyk",
        "Y1vNwmhg5_L3",
        "WVAot-Vr8F2U"
      ],
      "provenance": []
    },
    "kernelspec": {
      "display_name": "Python 3",
      "name": "python3"
    },
    "language_info": {
      "codemirror_mode": {
        "name": "ipython",
        "version": 3
      },
      "file_extension": ".py",
      "mimetype": "text/x-python",
      "name": "python",
      "nbconvert_exporter": "python",
      "pygments_lexer": "ipython3",
      "version": "3.13.5"
    }
  },
  "nbformat": 4,
  "nbformat_minor": 0
}
