{
  "cells": [
    {
      "cell_type": "markdown",
      "metadata": {
        "id": "JIX9shev5qME"
      },
      "source": [
        "#  Arithmetic Operators"
      ]
    },
    {
      "cell_type": "markdown",
      "metadata": {
        "id": "WVAot-Vr8F2U"
      },
      "source": [
        "# Question"
      ]
    },
    {
      "cell_type": "code",
      "execution_count": null,
      "metadata": {},
      "outputs": [],
      "source": [
        "## Task:\n",
        "# The provided code stub reads two integers from STDIN, a and b. Add code to print three lines where:\n",
        "# 1. The first line contains the sum of the two numbers.\n",
        "# 2. The second line contains the difference of the two numbers (first - second).\n",
        "# 3. The third line contains the product of the two numbers.\n",
        "\n",
        "## Example:\n",
        "# a = 3\n",
        "# b = 8\n",
        "\n",
        "# Print the following:\n",
        "# 11\n",
        "# -5\n",
        "# 24\n",
        "\n",
        "## Input Format:\n",
        "# The first line contains the first integer, a.\n",
        "# The second line contains the second integer, b.\n",
        "\n",
        "## Output Format:\n",
        "# Print the three lines as explained above."
      ]
    },
    {
      "cell_type": "markdown",
      "metadata": {},
      "source": [
        "# Answer"
      ]
    },
    {
      "cell_type": "code",
      "execution_count": null,
      "metadata": {},
      "outputs": [],
      "source": [
        "a = int(input())\n",
        "b = int(input())\n",
        "summ = a + b\n",
        "sub = a - b\n",
        "mul = a * b\n",
        "print(summ)\n",
        "print(sub)\n",
        "print(mul)"
      ]
    }
  ],
  "metadata": {
    "colab": {
      "collapsed_sections": [
        "JIX9shev5qME",
        "8FdTMZd45kyk",
        "Y1vNwmhg5_L3",
        "WVAot-Vr8F2U"
      ],
      "provenance": []
    },
    "kernelspec": {
      "display_name": "Python 3",
      "name": "python3"
    },
    "language_info": {
      "codemirror_mode": {
        "name": "ipython",
        "version": 3
      },
      "file_extension": ".py",
      "mimetype": "text/x-python",
      "name": "python",
      "nbconvert_exporter": "python",
      "pygments_lexer": "ipython3",
      "version": "3.13.5"
    }
  },
  "nbformat": 4,
  "nbformat_minor": 0
}
