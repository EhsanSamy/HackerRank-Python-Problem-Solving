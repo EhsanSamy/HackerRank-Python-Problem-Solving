{
  "cells": [
    {
      "cell_type": "markdown",
      "metadata": {
        "id": "JIX9shev5qME"
      },
      "source": [
        "#  If-Else"
      ]
    },
    {
      "cell_type": "markdown",
      "metadata": {
        "id": "WVAot-Vr8F2U"
      },
      "source": [
        "# Question"
      ]
    },
    {
      "cell_type": "code",
      "execution_count": null,
      "metadata": {},
      "outputs": [],
      "source": [
        "## Task:\n",
        "# Given an integer, n, perform the following conditional actions:\n",
        "# - If n is odd, print Weird\n",
        "# - If n is even and in the inclusive range of 2 to 5, print Not Weird\n",
        "# - If n is even and in the inclusive range of 6 to 20, print Weird\n",
        "# - If n is even and greater than 20, print Not Weird\n",
        "\n",
        "## Input Format:\n",
        "# A single line containing a positive integer, n.\n",
        "\n",
        "## Output Format:\n",
        "# Print Weird if the number is weird. Otherwise, print Not Weird."
      ]
    },
    {
      "cell_type": "markdown",
      "metadata": {},
      "source": [
        "# Answer"
      ]
    },
    {
      "cell_type": "code",
      "execution_count": null,
      "metadata": {},
      "outputs": [],
      "source": [
        "n = int(input().strip())\n",
        "if n < 0 or n > 100:\n",
        "    print(\"invalid input!\")\n",
        "elif n % 2 == 1 :\n",
        "    print(\"Weird\")\n",
        "elif n % 2 == 0 and n >= 2 and n <= 5:\n",
        "    print(\"Not Weird\")\n",
        "elif n % 2 == 0 and n >= 6 and n <= 20:\n",
        "    print(\"Weird\")\n",
        "elif n % 2 == 0 and n >= 20:\n",
        "    print(\"Not Weird\")"
      ]
    }
  ],
  "metadata": {
    "colab": {
      "collapsed_sections": [
        "JIX9shev5qME",
        "8FdTMZd45kyk",
        "Y1vNwmhg5_L3",
        "WVAot-Vr8F2U"
      ],
      "provenance": []
    },
    "kernelspec": {
      "display_name": "Python 3",
      "name": "python3"
    },
    "language_info": {
      "codemirror_mode": {
        "name": "ipython",
        "version": 3
      },
      "file_extension": ".py",
      "mimetype": "text/x-python",
      "name": "python",
      "nbconvert_exporter": "python",
      "pygments_lexer": "ipython3",
      "version": "3.13.5"
    }
  },
  "nbformat": 4,
  "nbformat_minor": 0
}
