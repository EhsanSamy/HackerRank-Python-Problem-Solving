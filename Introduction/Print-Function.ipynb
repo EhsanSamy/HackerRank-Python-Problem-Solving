{
  "cells": [
    {
      "cell_type": "markdown",
      "metadata": {
        "id": "JIX9shev5qME"
      },
      "source": [
        "#  Print Function"
      ]
    },
    {
      "cell_type": "markdown",
      "metadata": {
        "id": "WVAot-Vr8F2U"
      },
      "source": [
        "# Question"
      ]
    },
    {
      "cell_type": "code",
      "execution_count": null,
      "metadata": {},
      "outputs": [],
      "source": [
        "## Task:\n",
        "# The included code stub will read an integer, n, from STDIN.\n",
        "# Without using any string methods, try to print the following:\n",
        "# 123 ... n\n",
        "\n",
        "# Note that \" ...\" represents the consecutive values in between.\n",
        "\n",
        "## Example:\n",
        "# n = 5\n",
        "# Print the string 12345.\n",
        "\n",
        "## Input Format:\n",
        "# The first line contains an integer n.\n",
        "\n",
        "## Output Format:\n",
        "# Print the list of integers from 1 through n as a string, without spaces."
      ]
    },
    {
      "cell_type": "markdown",
      "metadata": {},
      "source": [
        "# Answer"
      ]
    },
    {
      "cell_type": "code",
      "execution_count": null,
      "metadata": {},
      "outputs": [],
      "source": [
        "n = int(input())\n",
        "for i in range(1, n + 1):\n",
        "    print(i, end=\"\")"
      ]
    }
  ],
  "metadata": {
    "colab": {
      "collapsed_sections": [
        "JIX9shev5qME",
        "8FdTMZd45kyk",
        "Y1vNwmhg5_L3",
        "WVAot-Vr8F2U"
      ],
      "provenance": []
    },
    "kernelspec": {
      "display_name": "Python 3",
      "name": "python3"
    },
    "language_info": {
      "codemirror_mode": {
        "name": "ipython",
        "version": 3
      },
      "file_extension": ".py",
      "mimetype": "text/x-python",
      "name": "python",
      "nbconvert_exporter": "python",
      "pygments_lexer": "ipython3",
      "version": "3.13.5"
    }
  },
  "nbformat": 4,
  "nbformat_minor": 0
}
