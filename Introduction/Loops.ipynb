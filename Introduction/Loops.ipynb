{
  "cells": [
    {
      "cell_type": "markdown",
      "metadata": {
        "id": "JIX9shev5qME"
      },
      "source": [
        "#  Loops"
      ]
    },
    {
      "cell_type": "markdown",
      "metadata": {
        "id": "WVAot-Vr8F2U"
      },
      "source": [
        "# Question"
      ]
    },
    {
      "cell_type": "code",
      "execution_count": null,
      "metadata": {},
      "outputs": [],
      "source": [
        "## Task:\n",
        "# The provided code stub reads an integer, n, from STDIN. For all non-negative integers i < n, print i^2.\n",
        "\n",
        "# Example:\n",
        "# n = 3\n",
        "# The list of non-negative integers that are less than n = 3 is [0, 1, 2]. Print the square of each number on a separate line.\n",
        "\n",
        "# 0\n",
        "# 1\n",
        "# 4\n",
        "\n",
        "## Input Format:\n",
        "# The first and only line contains the integer, n.\n",
        "\n",
        "## Output Format:\n",
        "# Print n lines, one corresponding to each i."
      ]
    },
    {
      "cell_type": "markdown",
      "metadata": {},
      "source": [
        "# Answer"
      ]
    },
    {
      "cell_type": "code",
      "execution_count": null,
      "metadata": {},
      "outputs": [],
      "source": [
        "n = int(input())\n",
        "for i in range(n):\n",
        "    print(i ** 2)"
      ]
    }
  ],
  "metadata": {
    "colab": {
      "collapsed_sections": [
        "JIX9shev5qME",
        "8FdTMZd45kyk",
        "Y1vNwmhg5_L3",
        "WVAot-Vr8F2U"
      ],
      "provenance": []
    },
    "kernelspec": {
      "display_name": "Python 3",
      "name": "python3"
    },
    "language_info": {
      "codemirror_mode": {
        "name": "ipython",
        "version": 3
      },
      "file_extension": ".py",
      "mimetype": "text/x-python",
      "name": "python",
      "nbconvert_exporter": "python",
      "pygments_lexer": "ipython3",
      "version": "3.13.5"
    }
  },
  "nbformat": 4,
  "nbformat_minor": 0
}
