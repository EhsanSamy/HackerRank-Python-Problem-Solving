{
  "cells": [
    {
      "cell_type": "markdown",
      "metadata": {
        "id": "JIX9shev5qME"
      },
      "source": [
        "#  Write a function"
      ]
    },
    {
      "cell_type": "markdown",
      "metadata": {
        "id": "WVAot-Vr8F2U"
      },
      "source": [
        "# Question"
      ]
    },
    {
      "cell_type": "code",
      "execution_count": null,
      "metadata": {},
      "outputs": [],
      "source": [
        "## Task\n",
        "\n",
        "# You are given a space separated list of integers. If all the integers are positive, then you need to check if any integer is a palindromic integer.\n",
        "\n",
        "## Input Format\n",
        "\n",
        "# The first line contains an integer N. N is the total number of integers in the list.\n",
        "# The second line contains the space separated list of N integers.\n",
        "\n",
        "## Output Format\n",
        "\n",
        "# Print True if all the conditions of the problem statement are satisfied. Otherwise, print False."
      ]
    },
    {
      "cell_type": "markdown",
      "metadata": {},
      "source": [
        "# Answer"
      ]
    },
    {
      "cell_type": "code",
      "execution_count": null,
      "metadata": {},
      "outputs": [],
      "source": [
        "N = int(input())\n",
        "integers = list(map(int, input().split()))[:N]\n",
        "print(all(i > 0 for i in integers) and any(str(i) == str(i)[::-1] for i in integers))"
      ]
    }
  ],
  "metadata": {
    "colab": {
      "collapsed_sections": [
        "JIX9shev5qME",
        "8FdTMZd45kyk",
        "Y1vNwmhg5_L3",
        "WVAot-Vr8F2U"
      ],
      "provenance": []
    },
    "kernelspec": {
      "display_name": "Python 3",
      "name": "python3"
    },
    "language_info": {
      "codemirror_mode": {
        "name": "ipython",
        "version": 3
      },
      "file_extension": ".py",
      "mimetype": "text/x-python",
      "name": "python",
      "nbconvert_exporter": "python",
      "pygments_lexer": "ipython3",
      "version": "3.13.5"
    }
  },
  "nbformat": 4,
  "nbformat_minor": 0
}
