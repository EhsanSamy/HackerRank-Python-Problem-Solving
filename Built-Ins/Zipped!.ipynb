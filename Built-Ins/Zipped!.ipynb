{
  "cells": [
    {
      "cell_type": "markdown",
      "metadata": {
        "id": "JIX9shev5qME"
      },
      "source": [
        "#  Write a function"
      ]
    },
    {
      "cell_type": "markdown",
      "metadata": {
        "id": "WVAot-Vr8F2U"
      },
      "source": [
        "# Question"
      ]
    },
    {
      "cell_type": "code",
      "execution_count": null,
      "metadata": {},
      "outputs": [],
      "source": [
        "## Task\n",
        "\n",
        "# The National University conducts an examination of N students in X subjects.\n",
        "# Your task is to compute the average scores of each student.\n",
        "\n",
        "## Input Format\n",
        "\n",
        "# The first line contains N and X separated by a space.\n",
        "# The next X lines contains the space separated marks obtained by students in a particular subject.\n",
        "\n",
        "## Output Format\n",
        "\n",
        "# Print the averages of all students on separate lines.\n",
        "# The averages must be correct up to 1 decimal place."
      ]
    },
    {
      "cell_type": "markdown",
      "metadata": {},
      "source": [
        "# Answer"
      ]
    },
    {
      "cell_type": "code",
      "execution_count": null,
      "metadata": {},
      "outputs": [],
      "source": [
        "N, X = map(int,input().split())\n",
        "sut_sub = [list(map(float,input().split())) for _ in range(X)]\n",
        "scores = zip(*sut_sub)\n",
        "for score in scores:\n",
        "    print(sum(score) / len(score))"
      ]
    }
  ],
  "metadata": {
    "colab": {
      "collapsed_sections": [
        "JIX9shev5qME",
        "8FdTMZd45kyk",
        "Y1vNwmhg5_L3",
        "WVAot-Vr8F2U"
      ],
      "provenance": []
    },
    "kernelspec": {
      "display_name": "Python 3",
      "name": "python3"
    },
    "language_info": {
      "codemirror_mode": {
        "name": "ipython",
        "version": 3
      },
      "file_extension": ".py",
      "mimetype": "text/x-python",
      "name": "python",
      "nbconvert_exporter": "python",
      "pygments_lexer": "ipython3",
      "version": "3.13.5"
    }
  },
  "nbformat": 4,
  "nbformat_minor": 0
}
